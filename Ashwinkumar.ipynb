{
  "nbformat": 4,
  "nbformat_minor": 0,
  "metadata": {
    "colab": {
      "name": "Ashwinkumar.ipynb",
      "provenance": [],
      "authorship_tag": "ABX9TyMRt+lZF+wmCQaIati8Fy28",
      "include_colab_link": true
    },
    "kernelspec": {
      "name": "python3",
      "display_name": "Python 3"
    }
  },
  "cells": [
    {
      "cell_type": "markdown",
      "metadata": {
        "id": "view-in-github",
        "colab_type": "text"
      },
      "source": [
        "<a href=\"https://colab.research.google.com/github/AshwinkumarG/NewAssignment/blob/master/Ashwinkumar.ipynb\" target=\"_parent\"><img src=\"https://colab.research.google.com/assets/colab-badge.svg\" alt=\"Open In Colab\"/></a>"
      ]
    },
    {
      "cell_type": "markdown",
      "metadata": {
        "id": "QoqD83XFYkin",
        "colab_type": "text"
      },
      "source": [
        "\n",
        "1)Write a program in python to check whether a person os eligible for voting or not using if-else"
      ]
    },
    {
      "cell_type": "code",
      "metadata": {
        "id": "GuholstLYEdL",
        "colab_type": "code",
        "colab": {
          "base_uri": "https://localhost:8080/",
          "height": 51
        },
        "outputId": "225b3cc8-b893-4bde-9311-7e87dc7724e8"
      },
      "source": [
        "a=int(input(\"enter the value of a:\"))\n",
        "if a>=18:\n",
        " print(\"a is eligible for voting\")\n",
        "else:\n",
        " print(\"a is not eligible for voting\")\n"
      ],
      "execution_count": 10,
      "outputs": [
        {
          "output_type": "stream",
          "text": [
            "enter the value of a:21\n",
            "a is eligible for voting\n"
          ],
          "name": "stdout"
        }
      ]
    },
    {
      "cell_type": "markdown",
      "metadata": {
        "id": "jd0ygCh0akuH",
        "colab_type": "text"
      },
      "source": [
        "2)Write a program to check whether a number is even or odd using if-else"
      ]
    },
    {
      "cell_type": "code",
      "metadata": {
        "id": "mNuwRFxxYipa",
        "colab_type": "code",
        "colab": {
          "base_uri": "https://localhost:8080/",
          "height": 51
        },
        "outputId": "88c8a193-6fd8-4534-bd87-6de79bd43dbb"
      },
      "source": [
        "a=int(input(\"Enter the number:\"))\n",
        "if a%2==0:\n",
        "  print(\"it is an even number\")\n",
        "else:    print(\"it is an odd number\")"
      ],
      "execution_count": 14,
      "outputs": [
        {
          "output_type": "stream",
          "text": [
            "Enter the number:21\n",
            "it is an odd number\n"
          ],
          "name": "stdout"
        }
      ]
    },
    {
      "cell_type": "markdown",
      "metadata": {
        "id": "Z84XbXkGbvEh",
        "colab_type": "text"
      },
      "source": [
        "3)Write a program to print the string in reverseorder by using string indexing"
      ]
    },
    {
      "cell_type": "code",
      "metadata": {
        "id": "xczlTcSHb6oz",
        "colab_type": "code",
        "colab": {
          "base_uri": "https://localhost:8080/",
          "height": 68
        },
        "outputId": "2361d2cc-efa0-4e89-f09d-ca8c5812c70d"
      },
      "source": [
        "a=str(input(\"Enter a string:\"))\n",
        "print(\"reverse of the string is:\")\n",
        "print(a[::-1])"
      ],
      "execution_count": 15,
      "outputs": [
        {
          "output_type": "stream",
          "text": [
            "Enter a string:boss\n",
            "reverse of the string is:\n",
            "ssob\n"
          ],
          "name": "stdout"
        }
      ]
    },
    {
      "cell_type": "markdown",
      "metadata": {
        "id": "-A-1_bIDcXGJ",
        "colab_type": "text"
      },
      "source": [
        "4)Write a python program to check whether a number is positive or not using if-else"
      ]
    },
    {
      "cell_type": "code",
      "metadata": {
        "id": "ZLoHZDCOcpZI",
        "colab_type": "code",
        "colab": {
          "base_uri": "https://localhost:8080/",
          "height": 51
        },
        "outputId": "65b89524-674d-4a5f-d21a-5488e0d10e33"
      },
      "source": [
        "a=int(input(\"Enter the number:\"))\n",
        "if a>0:\n",
        "  print(\"number is positive\")\n",
        "else:\n",
        "    print(\"number is negative\")"
      ],
      "execution_count": 18,
      "outputs": [
        {
          "output_type": "stream",
          "text": [
            "Enter the number:-21\n",
            "number is negative\n"
          ],
          "name": "stdout"
        }
      ]
    },
    {
      "cell_type": "markdown",
      "metadata": {
        "id": "KJEHrA3Hd2sG",
        "colab_type": "text"
      },
      "source": [
        "5)Write a python program to find the roots of a quadratic equation using elif."
      ]
    },
    {
      "cell_type": "code",
      "metadata": {
        "id": "GNXgZTXSeFle",
        "colab_type": "code",
        "colab": {
          "base_uri": "https://localhost:8080/",
          "height": 85
        },
        "outputId": "9fd36292-a5c7-45c8-da44-e136e0b7a7c6"
      },
      "source": [
        "import math\n",
        "a=float(input(\"Enter the coefficient of a:\"))\n",
        "b=float(input(\"Enter the coefficient of b:\"))\n",
        "c=float(input(\"Enter the coefficient of c:\"))\n",
        "d=b*b-4*a*c;\n",
        "if d>0:\n",
        "  r1=(-b+math.sqrt(d))/(2*a)\n",
        "  r2=(-b-math.sqrt(d))/(2*a)\n",
        "  print(\"roots are real and unequal\",r1,\"and\",r2)\n",
        "elif d==0:\n",
        "  r1=-b/(2*a)\n",
        "  print(\"roots are real and same\",r1)\n",
        "else:\n",
        "    print(\"no real roots are there\")"
      ],
      "execution_count": 26,
      "outputs": [
        {
          "output_type": "stream",
          "text": [
            "Enter the coefficient of a:2\n",
            "Enter the coefficient of b:4\n",
            "Enter the coefficient of c:7\n",
            "no real roots are there\n"
          ],
          "name": "stdout"
        }
      ]
    },
    {
      "cell_type": "markdown",
      "metadata": {
        "id": "LOKukINShTnJ",
        "colab_type": "text"
      },
      "source": [
        "6)Write a program using nested if to check whether a number is positive or negative or zero"
      ]
    },
    {
      "cell_type": "code",
      "metadata": {
        "id": "4mfUwmS3iYlQ",
        "colab_type": "code",
        "colab": {
          "base_uri": "https://localhost:8080/",
          "height": 51
        },
        "outputId": "e00fc0a2-e5c1-452e-b3a2-63c05d1559eb"
      },
      "source": [
        "num=float(input(\"Enter a number:\"))\n",
        "if num>=0:\n",
        " if num==0:\n",
        "   print(\"zero\")\n",
        " else:\n",
        "  print(\"positive number\")\n",
        "else:\n",
        "    print(\"negative number\")"
      ],
      "execution_count": 31,
      "outputs": [
        {
          "output_type": "stream",
          "text": [
            "Enter a number:-21\n",
            "negative number\n"
          ],
          "name": "stdout"
        }
      ]
    },
    {
      "cell_type": "markdown",
      "metadata": {
        "id": "31YEz7-kjW7i",
        "colab_type": "text"
      },
      "source": [
        "7)Write a program to accept a number(1-5) and print the given number in words "
      ]
    },
    {
      "cell_type": "code",
      "metadata": {
        "id": "OwLHJiNojkbY",
        "colab_type": "code",
        "colab": {
          "base_uri": "https://localhost:8080/",
          "height": 51
        },
        "outputId": "a9ee2221-ef92-4f73-cf2e-6df5ee928dac"
      },
      "source": [
        "num=int(input(\"Enter a number:\"))\n",
        "if num==1:\n",
        "  print(\"one\")\n",
        "elif num==2:\n",
        "  print(\"two\")\n",
        "elif num==3:\n",
        "  print (\"three\")\n",
        "elif num==4:\n",
        "  print(\"four\")\n",
        "elif num==5:\n",
        "  print(\"five\")\n",
        "else:\n",
        "  print(\"invalid number\")\n"
      ],
      "execution_count": 54,
      "outputs": [
        {
          "output_type": "stream",
          "text": [
            "Enter a number:3\n",
            "three\n"
          ],
          "name": "stdout"
        }
      ]
    },
    {
      "cell_type": "markdown",
      "metadata": {
        "id": "L0F7r2-HlHgo",
        "colab_type": "text"
      },
      "source": [
        " 8)Write a program to read a character and print the given character is vowel or consonant"
      ]
    },
    {
      "cell_type": "code",
      "metadata": {
        "id": "e8GleW2zm2sj",
        "colab_type": "code",
        "colab": {
          "base_uri": "https://localhost:8080/",
          "height": 51
        },
        "outputId": "800684b9-cf1a-4f64-b8eb-ddad2bdbd45d"
      },
      "source": [
        "ch=input(\"enter a character:\")\n",
        "if ch==\"A\" or ch==\"a\" or ch==\"E\" or ch==\"e\" or ch==\"I\" or ch==\"i\" or ch==\"O\" or ch==\"o\" or ch==\"U\" or ch==\"u\":\n",
        "  print(\"the character is a vowel\")\n",
        "else:\n",
        "  print(\"the character is a consonant\")\n"
      ],
      "execution_count": 48,
      "outputs": [
        {
          "output_type": "stream",
          "text": [
            "enter a character:p\n",
            "the character is a consonant\n"
          ],
          "name": "stdout"
        }
      ]
    }
  ]
}